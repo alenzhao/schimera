{
 "cells": [
  {
   "cell_type": "code",
   "execution_count": 2,
   "metadata": {
    "collapsed": false
   },
   "outputs": [
    {
     "name": "stderr",
     "output_type": "stream",
     "text": [
      "/Users/atray/anaconda/lib/python2.7/site-packages/pandas/computation/__init__.py:19: UserWarning: The installed version of numexpr 2.4.4 is not supported in pandas and will be not be used\n",
      "\n",
      "  UserWarning)\n",
      "/Users/atray/anaconda/lib/python2.7/site-packages/matplotlib/__init__.py:1350: UserWarning:  This call to matplotlib.use() has no effect\n",
      "because the backend has already been chosen;\n",
      "matplotlib.use() must be called *before* pylab, matplotlib.pyplot,\n",
      "or matplotlib.backends is imported for the first time.\n",
      "\n",
      "  warnings.warn(_use_error_msg)\n"
     ]
    }
   ],
   "source": [
    "%matplotlib inline\n",
    "import pandas as pd\n",
    "import numpy as np\n",
    "import matplotlib.pyplot as plt\n",
    "import matplotlib\n",
    "matplotlib.use('Agg')\n",
    "import matplotlib.pyplot as plt\n",
    "matplotlib.rcParams['pdf.fonttype'] = 42\n",
    "import seaborn as sns\n",
    "sns.set_context('talk')\n",
    "sns.set_style('white')\n",
    "sns.set_style('ticks')\n",
    "import scipy\n",
    "from scipy import sparse, io\n",
    "import h5py\n",
    "import re\n",
    "import time\n",
    "import sklearn\n",
    "import sys\n",
    "import statsmodels\n",
    "import statsmodels.api as sm\n",
    "import sklearn.ensemble"
   ]
  },
  {
   "cell_type": "code",
   "execution_count": 17,
   "metadata": {
    "collapsed": true
   },
   "outputs": [],
   "source": [
    "outputpath='CHANGE THIS TO OUTPUT PATH'\n",
    "path2data='CHANGE THIS TO DATA PATH'\n",
    "#threshold on maximum tolerable false positive rate for random forest filter\n",
    "fpr_threshold=0.02"
   ]
  },
  {
   "cell_type": "code",
   "execution_count": 4,
   "metadata": {
    "collapsed": false
   },
   "outputs": [],
   "source": [
    "#read, label, and concatenate human and mouse data\n",
    "Th=pd.read_csv(path2data+'SpeciesMix_HundredSTAMP_bq10_star_HUMAN_auto_molBC.txt.gz',sep='\\t')\n",
    "Tm=pd.read_csv(path2data+'SpeciesMix_HundredSTAMP_bq10_star_MOUSE_auto_molBC.txt.gz',sep='\\t')\n",
    "Th['human']=[1.0]*len(Th)\n",
    "Th['mouse']=[0.0]*len(Th)\n",
    "Tm['human']=[0.0]*len(Tm)\n",
    "Tm['mouse']=[1.0]*len(Tm)\n",
    "T=pd.concat([Th,Tm])\n",
    "T['bcumi']=[x+'-'+y for x,y in zip(T['Cell Barcode'],T['Molecular_Barcode'])]"
   ]
  },
  {
   "cell_type": "code",
   "execution_count": 5,
   "metadata": {
    "collapsed": false
   },
   "outputs": [],
   "source": [
    "#TPT calculation\n",
    "\n",
    "BCUMI_group=T.groupby('bcumi').sum()\n",
    "BCUMI_group['gpt']=BCUMI_group['human']+BCUMI_group['mouse']\n",
    "BCUMI_group=pd.DataFrame(BCUMI_group[['Num_Obs','gpt']])\n",
    "BCUMI_group.columns=['total_reads','gpt']\n",
    "T_tot=T.copy()\n",
    "T_tot.index=T_tot['bcumi']\n",
    "T_tot=T_tot.join(BCUMI_group)\n",
    "T_tot['TPT']=1.0*(np.divide(1.0*T_tot['Num_Obs'],T_tot['total_reads']))\n",
    "TTPT_filt=T_tot.copy()\n",
    "\n",
    "\n",
    "# Identify human and mouse cells (higher than 95% purity)\n",
    "\n",
    "Tmeans=TTPT_filt.groupby('Cell Barcode').mean()\n",
    "Tmeans['mouse_lab']=Tmeans['mouse']>0.95\n",
    "Tmeans['human_lab']=Tmeans['human']>0.95\n",
    "Tmeansf=Tmeans[['mouse_lab','human_lab']]\n",
    "\n",
    "\n",
    "TTPT_filt.index=TTPT_filt['Cell Barcode']\n",
    "\n",
    "Tfmerge=TTPT_filt.join(Tmeansf)\n",
    "\n",
    "gmeans=Tfmerge.groupby('Gene').sum()"
   ]
  },
  {
   "cell_type": "code",
   "execution_count": 6,
   "metadata": {
    "collapsed": false
   },
   "outputs": [],
   "source": [
    "#TPM normalize gene means within species\n",
    "gmeans.ix[gmeans['human']>0,'Num_Obs']=np.divide(1e6*gmeans.ix[gmeans['human']>0,'Num_Obs'],np.sum(gmeans.ix[gmeans['human']>0,'Num_Obs']))\n",
    "gmeans.ix[gmeans['mouse']>0,'Num_Obs']=np.divide(1e6*gmeans.ix[gmeans['mouse']>0,'Num_Obs'],np.sum(gmeans.ix[gmeans['mouse']>0,'Num_Obs']))\n",
    "gmeans=pd.DataFrame(np.log2(gmeans['Num_Obs']+1))\n",
    "gmeans.columns=['gsums']"
   ]
  },
  {
   "cell_type": "code",
   "execution_count": 7,
   "metadata": {
    "collapsed": false
   },
   "outputs": [],
   "source": [
    "Tfmerge.index=Tfmerge['Gene']\n",
    "\n",
    "Tfmerge=Tfmerge.join(gmeans)\n",
    "\n",
    "Tfbc_group=Tfmerge.groupby('Cell Barcode').sum()\n",
    "\n",
    "hbcsums=np.sum(Tfbc_group.ix[Tfbc_group['human_lab']>0,'Num_Obs'])\n",
    "mbcsums=np.sum(Tfbc_group.ix[Tfbc_group['mouse_lab']>0,'Num_Obs'])\n",
    "\n",
    "#TPM normalize cell barcode abundances within species\n",
    "Tfbc_group.ix[Tfbc_group['human_lab']>0,'Num_Obs']=np.divide(1e6*Tfbc_group.ix[Tfbc_group['human_lab']>0,'Num_Obs'],hbcsums)\n",
    "Tfbc_group.ix[Tfbc_group['mouse_lab']>0,'Num_Obs']=np.divide(1e6*Tfbc_group.ix[Tfbc_group['mouse_lab']>0,'Num_Obs'],mbcsums)\n",
    "\n",
    "bcsums=pd.DataFrame(Tfbc_group['Num_Obs'])\n",
    "bcsums.columns=['bcsums']\n",
    "\n",
    "Tfmerge.index=Tfmerge['Cell Barcode']\n",
    "Tfmerge=Tfmerge.join(bcsums)\n",
    "\n",
    "Tfbc_group['class']=(1.0*(Tfbc_group['mouse_lab']>0))-(1.0*(Tfbc_group['human_lab']>0))"
   ]
  },
  {
   "cell_type": "code",
   "execution_count": 8,
   "metadata": {
    "collapsed": false
   },
   "outputs": [
    {
     "data": {
      "text/plain": [
       "<matplotlib.text.Text at 0x10cda3390>"
      ]
     },
     "execution_count": 8,
     "metadata": {},
     "output_type": "execute_result"
    },
    {
     "data": {
      "image/png": "[encoded data removed]",
      "text/plain": [
       "<matplotlib.figure.Figure at 0x10c127fd0>"
      ]
     },
     "metadata": {},
     "output_type": "display_data"
    }
   ],
   "source": [
    "plt.scatter(Tfbc_group['human'],Tfbc_group['mouse'],c=1.0*np.array(Tfbc_group['human_lab']>0)-1.0*np.array(Tfbc_group['mouse_lab']>0),cmap='bwr')\n",
    "plt.xlabel('Human UMs')\n",
    "plt.ylabel('Mouse UMs')"
   ]
  },
  {
   "cell_type": "code",
   "execution_count": 9,
   "metadata": {
    "collapsed": false
   },
   "outputs": [],
   "source": [
    "#remove cross-species doublets\n",
    "notdoublet=np.logical_or(Tfmerge['mouse_lab'],Tfmerge['human_lab'])\n",
    "Tfmerge=Tfmerge[notdoublet]\n",
    "\n",
    "#label mismatch molecules as ones that are genes from the opposite species\n",
    "Tfmerge['mismatch']=np.logical_or(np.logical_and(Tfmerge['human']>0,Tfmerge['mouse_lab']),np.logical_and(Tfmerge['mouse']>0,Tfmerge['human_lab']))"
   ]
  },
  {
   "cell_type": "code",
   "execution_count": 10,
   "metadata": {
    "collapsed": true
   },
   "outputs": [],
   "source": [
    "Tfmerge_h=Tfmerge[Tfmerge['human']>0]\n",
    "Tfmerge_m=Tfmerge[Tfmerge['mouse']>0]"
   ]
  },
  {
   "cell_type": "code",
   "execution_count": 11,
   "metadata": {
    "collapsed": false
   },
   "outputs": [
    {
     "data": {
      "text/plain": [
       "32014"
      ]
     },
     "execution_count": 11,
     "metadata": {},
     "output_type": "execute_result"
    }
   ],
   "source": [
    "np.sum(np.logical_and(Tfmerge['mismatch'],Tfmerge['human_lab']))"
   ]
  },
  {
   "cell_type": "code",
   "execution_count": 12,
   "metadata": {
    "collapsed": false
   },
   "outputs": [
    {
     "data": {
      "text/plain": [
       "27230"
      ]
     },
     "execution_count": 12,
     "metadata": {},
     "output_type": "execute_result"
    }
   ],
   "source": [
    "np.sum(np.logical_and(Tfmerge['mismatch'],Tfmerge['mouse_lab']))"
   ]
  },
  {
   "cell_type": "code",
   "execution_count": 13,
   "metadata": {
    "collapsed": false
   },
   "outputs": [
    {
     "data": {
      "text/plain": [
       "3394611"
      ]
     },
     "execution_count": 13,
     "metadata": {},
     "output_type": "execute_result"
    }
   ],
   "source": [
    "np.sum(np.logical_not(Tfmerge['mismatch']))"
   ]
  },
  {
   "cell_type": "code",
   "execution_count": 63,
   "metadata": {
    "collapsed": false
   },
   "outputs": [
    {
     "data": {
      "text/html": [
       "<div>\n",
       "<table border=\"1\" class=\"dataframe\">\n",
       "  <thead>\n",
       "    <tr style=\"text-align: right;\">\n",
       "      <th></th>\n",
       "      <th>Human Cell</th>\n",
       "      <th>Mouse Cell</th>\n",
       "    </tr>\n",
       "  </thead>\n",
       "  <tbody>\n",
       "    <tr>\n",
       "      <th>Human Gene</th>\n",
       "      <td>0.628846</td>\n",
       "      <td>0.148047</td>\n",
       "    </tr>\n",
       "    <tr>\n",
       "      <th>Mouse Gene</th>\n",
       "      <td>0.180591</td>\n",
       "      <td>0.042516</td>\n",
       "    </tr>\n",
       "  </tbody>\n",
       "</table>\n",
       "</div>"
      ],
      "text/plain": [
       "            Human Cell  Mouse Cell\n",
       "Human Gene    0.628846    0.148047\n",
       "Mouse Gene    0.180591    0.042516"
      ]
     },
     "execution_count": 63,
     "metadata": {},
     "output_type": "execute_result"
    }
   ],
   "source": [
    "#Calculate chimera probabilities based on observed abundances of human mouse cells and genes\n",
    "hgsums=Tfmerge['human_lab'].sum()\n",
    "mgsums=Tfmerge['mouse_lab'].sum()\n",
    "hg=np.divide(1.0*hgsums,hgsums+mgsums)\n",
    "hb=np.divide(1.0*hbcsums,hbcsums+mbcsums)\n",
    "chimera_probs=pd.DataFrame([[hg*hb,hg*(1-hb)],[hb*(1-hg),(1-hb)*(1-hg)]])\n",
    "chimera_probs.columns=['Human Cell','Mouse Cell']\n",
    "chimera_probs.index=['Human Gene','Mouse Gene']\n",
    "chimera_probs"
   ]
  },
  {
   "cell_type": "code",
   "execution_count": 18,
   "metadata": {
    "collapsed": true
   },
   "outputs": [],
   "source": [
    "#gene level summary statistics\n",
    "hprop=pd.read_csv(path2data+'/hg38geneprops.csv',index_col=0)\n",
    "hprop['Gene']=hprop.index\n",
    "mprop=pd.read_csv(path2data+'/mm10geneprops.csv',index_col=0)\n",
    "mprop['Gene']=mprop.index"
   ]
  },
  {
   "cell_type": "code",
   "execution_count": 19,
   "metadata": {
    "collapsed": true
   },
   "outputs": [],
   "source": [
    "#add species level gene properties\n",
    "Tfmerge_h=Tfmerge_h.join(hprop,on='Gene',rsuffix='_2')\n",
    "Tfmerge_h=Tfmerge_h.dropna()\n",
    "Tfmerge_m=Tfmerge_m.join(mprop,on='Gene',rsuffix='_2')\n",
    "Tfmerge_m=Tfmerge_m.dropna()\n",
    "Tfmerge_f=pd.concat([Tfmerge_h,Tfmerge_m])"
   ]
  },
  {
   "cell_type": "code",
   "execution_count": 20,
   "metadata": {
    "collapsed": true
   },
   "outputs": [],
   "source": [
    "Tfmerge_f['log(Reads)']=np.log2(Tfmerge_f['Num_Obs'])"
   ]
  },
  {
   "cell_type": "code",
   "execution_count": 21,
   "metadata": {
    "collapsed": true
   },
   "outputs": [],
   "source": [
    "def gc_calc(seq):\n",
    "    seqlen=len(seq)\n",
    "    gc=np.divide(1.0*(seq.count('G')+seq.count('C')),seqlen)\n",
    "    return gc\n",
    "\n",
    "#add gc content feature\n",
    "Tfmerge_f['gccbc']=[gc_calc(x) for x in Tfmerge_f['Cell Barcode']]\n",
    "Tfmerge_f['gcumi']=[gc_calc(x) for x in Tfmerge_f['Molecular_Barcode']]"
   ]
  },
  {
   "cell_type": "code",
   "execution_count": 41,
   "metadata": {
    "collapsed": true
   },
   "outputs": [],
   "source": [
    "#extract final sample labels and features\n",
    "\n",
    "y=Tfmerge_f['mismatch']\n",
    "X=Tfmerge_f[['log(Reads)','TPT','gccbc','gcumi','gsums','bcsums','Avg Length','Avg GC','Avg KPK']]"
   ]
  },
  {
   "cell_type": "code",
   "execution_count": 42,
   "metadata": {
    "collapsed": false
   },
   "outputs": [],
   "source": [
    "Xlog=X.copy()\n",
    "Xlog['Avg Length']=np.log2(Xlog['Avg Length'])\n",
    "Xlog['bcsums']=np.log2(Xlog['bcsums'])"
   ]
  },
  {
   "cell_type": "code",
   "execution_count": 43,
   "metadata": {
    "collapsed": true
   },
   "outputs": [],
   "source": [
    "rf=sklearn.ensemble.RandomForestClassifier(n_estimators=300,oob_score=True,n_jobs=-1,class_weight='auto',verbose=1)"
   ]
  },
  {
   "cell_type": "code",
   "execution_count": 44,
   "metadata": {
    "collapsed": false,
    "scrolled": true
   },
   "outputs": [
    {
     "name": "stderr",
     "output_type": "stream",
     "text": [
      "[Parallel(n_jobs=-1)]: Done  34 tasks      | elapsed:  1.8min\n",
      "[Parallel(n_jobs=-1)]: Done 184 tasks      | elapsed:  8.7min\n",
      "[Parallel(n_jobs=-1)]: Done 300 out of 300 | elapsed: 13.9min finished\n"
     ]
    },
    {
     "data": {
      "text/plain": [
       "RandomForestClassifier(bootstrap=True, class_weight='auto', criterion='gini',\n",
       "            max_depth=None, max_features='auto', max_leaf_nodes=None,\n",
       "            min_samples_leaf=1, min_samples_split=2,\n",
       "            min_weight_fraction_leaf=0.0, n_estimators=300, n_jobs=-1,\n",
       "            oob_score=True, random_state=None, verbose=1, warm_start=False)"
      ]
     },
     "execution_count": 44,
     "metadata": {},
     "output_type": "execute_result"
    }
   ],
   "source": [
    "#fit random forest\n",
    "rf.fit(Xlog,y)"
   ]
  },
  {
   "cell_type": "code",
   "execution_count": 45,
   "metadata": {
    "collapsed": true
   },
   "outputs": [],
   "source": [
    "probs=[(x[0]-x[1]) for x in rf.oob_decision_function_]"
   ]
  },
  {
   "cell_type": "code",
   "execution_count": 46,
   "metadata": {
    "collapsed": true
   },
   "outputs": [],
   "source": [
    "fprrf, tprrf, thresholds = sklearn.metrics.roc_curve(y,-np.array(probs))"
   ]
  },
  {
   "cell_type": "code",
   "execution_count": 50,
   "metadata": {
    "collapsed": false
   },
   "outputs": [
    {
     "data": {
      "image/png": "[encoded data removed]",
      "text/plain": [
       "<matplotlib.figure.Figure at 0x10eaa2910>"
      ]
     },
     "metadata": {},
     "output_type": "display_data"
    }
   ],
   "source": [
    "plt.plot(fprrf,tprrf,label='Random Forest')\n",
    "plt.plot([0,1],[0,1],c='black')\n",
    "plt.xlabel('1-Specificity')\n",
    "plt.ylabel('Sensitivity')\n",
    "plt.axvline(0.04,c='gray')"
   ]
  },
  {
   "cell_type": "code",
   "execution_count": 48,
   "metadata": {
    "collapsed": false
   },
   "outputs": [
    {
     "name": "stdout",
     "output_type": "stream",
     "text": [
      "AUC is 0.933610558166\n",
      "Filtered 3.05% of molecules\n"
     ]
    }
   ],
   "source": [
    "aucrf=sklearn.metrics.auc(fprrf,tprrf)\n",
    "print('AUC is '+str(aucrf))\n",
    "probthresh=thresholds[fprrf<fpr_threshold][-1]\n",
    "prob_logical=-np.array(probs)<probthresh\n",
    "print('Filtered '+str(np.round(100.0*(1.0-np.mean(prob_logical)),2))+'% of molecules')"
   ]
  },
  {
   "cell_type": "code",
   "execution_count": 49,
   "metadata": {
    "collapsed": false
   },
   "outputs": [
    {
     "data": {
      "text/html": [
       "<div>\n",
       "<table border=\"1\" class=\"dataframe\">\n",
       "  <thead>\n",
       "    <tr style=\"text-align: right;\">\n",
       "      <th></th>\n",
       "      <th>0</th>\n",
       "    </tr>\n",
       "  </thead>\n",
       "  <tbody>\n",
       "    <tr>\n",
       "      <th>log(Reads)</th>\n",
       "      <td>0.214529</td>\n",
       "    </tr>\n",
       "    <tr>\n",
       "      <th>gsums</th>\n",
       "      <td>0.147509</td>\n",
       "    </tr>\n",
       "    <tr>\n",
       "      <th>Avg Length</th>\n",
       "      <td>0.136966</td>\n",
       "    </tr>\n",
       "    <tr>\n",
       "      <th>Avg GC</th>\n",
       "      <td>0.133134</td>\n",
       "    </tr>\n",
       "    <tr>\n",
       "      <th>bcsums</th>\n",
       "      <td>0.123919</td>\n",
       "    </tr>\n",
       "    <tr>\n",
       "      <th>TPT</th>\n",
       "      <td>0.109936</td>\n",
       "    </tr>\n",
       "    <tr>\n",
       "      <th>Avg KPK</th>\n",
       "      <td>0.062631</td>\n",
       "    </tr>\n",
       "    <tr>\n",
       "      <th>gccbc</th>\n",
       "      <td>0.035955</td>\n",
       "    </tr>\n",
       "    <tr>\n",
       "      <th>gcumi</th>\n",
       "      <td>0.035422</td>\n",
       "    </tr>\n",
       "  </tbody>\n",
       "</table>\n",
       "</div>"
      ],
      "text/plain": [
       "                   0\n",
       "log(Reads)  0.214529\n",
       "gsums       0.147509\n",
       "Avg Length  0.136966\n",
       "Avg GC      0.133134\n",
       "bcsums      0.123919\n",
       "TPT         0.109936\n",
       "Avg KPK     0.062631\n",
       "gccbc       0.035955\n",
       "gcumi       0.035422"
      ]
     },
     "execution_count": 49,
     "metadata": {},
     "output_type": "execute_result"
    }
   ],
   "source": [
    "df_rf=pd.DataFrame(rf.feature_importances_)\n",
    "df_rf.index=X.columns\n",
    "df_rf.sort_values(0,ascending=False)"
   ]
  },
  {
   "cell_type": "code",
   "execution_count": null,
   "metadata": {
    "collapsed": true
   },
   "outputs": [],
   "source": [
    "T_F=Tfmerge_f[prob_logical]\n",
    "T_F['unique']=np.array([1.0]*len(T_F))\n",
    "T_F['bcgene']=[(x,y) for x,y in zip(T_F['Cell Barcode'],T_F['Gene'])]\n",
    "T_FF = T_F.groupby('bcgene').sum()"
   ]
  },
  {
   "cell_type": "code",
   "execution_count": 54,
   "metadata": {
    "collapsed": true
   },
   "outputs": [],
   "source": [
    "def str2index(strlist):\n",
    "    reduced=pd.DataFrame(list(set(np.sort(strlist))))\n",
    "    reduced=reduced.reset_index()\n",
    "    reduced.index=reduced[0]\n",
    "    dftmp=pd.DataFrame(strlist,index=strlist)\n",
    "    dftmp=dftmp.merge(reduced,how='left')['index']\n",
    "    return np.array(dftmp),list(reduced[0])"
   ]
  },
  {
   "cell_type": "code",
   "execution_count": 55,
   "metadata": {
    "collapsed": false
   },
   "outputs": [],
   "source": [
    "tfrow=[x[1] for x in T_FF.index]\n",
    "tfrow,gnames=str2index(tfrow)\n",
    "tfcol=[x[0] for x in T_FF.index]\n",
    "tfcol,cnames=str2index(tfcol)\n",
    "tfdata=np.array(T_FF['unique'])\n",
    "tmpcol=pd.DataFrame(np.unique(tfcol))\n",
    "tmpcol['unind']=range(len(tmpcol))\n",
    "\n",
    "dftfcol=pd.DataFrame(tfcol)\n",
    "dftfcol=dftfcol.merge(tmpcol,on=0)\n",
    "tfcol=np.array(dftfcol['unind'])\n",
    "EXPR_MAT=scipy.sparse.csr_matrix((tfdata,(tfrow,tfcol)),shape=(np.max(tfrow)+1,np.max(tfcol)+1)).toarray()\n",
    "EXPR_MAT=pd.DataFrame(EXPR_MAT)\n",
    "EXPR_MAT.index=gnames\n",
    "EXPR_MAT.columns=cnames"
   ]
  },
  {
   "cell_type": "code",
   "execution_count": 56,
   "metadata": {
    "collapsed": false
   },
   "outputs": [
    {
     "data": {
      "text/html": [
       "<div>\n",
       "<table border=\"1\" class=\"dataframe\">\n",
       "  <thead>\n",
       "    <tr style=\"text-align: right;\">\n",
       "      <th></th>\n",
       "      <th>ATCTTCGGATCA</th>\n",
       "      <th>TACAATTAAGGC</th>\n",
       "      <th>TTGCCTTACGCG</th>\n",
       "      <th>TCTGGATGCGCA</th>\n",
       "      <th>GGATACATGGTA</th>\n",
       "      <th>CACTCTGCAAGG</th>\n",
       "      <th>GAAGTTGGCGGA</th>\n",
       "      <th>AGACTTCCCTCG</th>\n",
       "      <th>AAGTAAGCAAGC</th>\n",
       "      <th>TGGCTATACCAA</th>\n",
       "      <th>...</th>\n",
       "      <th>CGCCCAGTACCG</th>\n",
       "      <th>GAGACTGCCCCA</th>\n",
       "      <th>GAATGGCATGCT</th>\n",
       "      <th>CCTAGACGTAGT</th>\n",
       "      <th>GACACTTCATCG</th>\n",
       "      <th>CGTGATGACCCT</th>\n",
       "      <th>AACCTATGGGCC</th>\n",
       "      <th>CCTTGTACTTTT</th>\n",
       "      <th>TGAATGTTTGAC</th>\n",
       "      <th>TCTCACAATGGG</th>\n",
       "    </tr>\n",
       "  </thead>\n",
       "  <tbody>\n",
       "    <tr>\n",
       "      <th>Plekhg2</th>\n",
       "      <td>0.0</td>\n",
       "      <td>0.0</td>\n",
       "      <td>0.0</td>\n",
       "      <td>0.0</td>\n",
       "      <td>0.0</td>\n",
       "      <td>1.0</td>\n",
       "      <td>0.0</td>\n",
       "      <td>0.0</td>\n",
       "      <td>0.0</td>\n",
       "      <td>0.0</td>\n",
       "      <td>...</td>\n",
       "      <td>0.0</td>\n",
       "      <td>0.0</td>\n",
       "      <td>0.0</td>\n",
       "      <td>0.0</td>\n",
       "      <td>0.0</td>\n",
       "      <td>0.0</td>\n",
       "      <td>0.0</td>\n",
       "      <td>0.0</td>\n",
       "      <td>0.0</td>\n",
       "      <td>1.0</td>\n",
       "    </tr>\n",
       "    <tr>\n",
       "      <th>Plekhg3</th>\n",
       "      <td>0.0</td>\n",
       "      <td>0.0</td>\n",
       "      <td>0.0</td>\n",
       "      <td>0.0</td>\n",
       "      <td>0.0</td>\n",
       "      <td>0.0</td>\n",
       "      <td>0.0</td>\n",
       "      <td>0.0</td>\n",
       "      <td>0.0</td>\n",
       "      <td>0.0</td>\n",
       "      <td>...</td>\n",
       "      <td>0.0</td>\n",
       "      <td>2.0</td>\n",
       "      <td>0.0</td>\n",
       "      <td>0.0</td>\n",
       "      <td>0.0</td>\n",
       "      <td>0.0</td>\n",
       "      <td>0.0</td>\n",
       "      <td>0.0</td>\n",
       "      <td>0.0</td>\n",
       "      <td>0.0</td>\n",
       "    </tr>\n",
       "    <tr>\n",
       "      <th>Plekhg4</th>\n",
       "      <td>0.0</td>\n",
       "      <td>0.0</td>\n",
       "      <td>0.0</td>\n",
       "      <td>0.0</td>\n",
       "      <td>0.0</td>\n",
       "      <td>0.0</td>\n",
       "      <td>0.0</td>\n",
       "      <td>0.0</td>\n",
       "      <td>0.0</td>\n",
       "      <td>0.0</td>\n",
       "      <td>...</td>\n",
       "      <td>0.0</td>\n",
       "      <td>0.0</td>\n",
       "      <td>0.0</td>\n",
       "      <td>0.0</td>\n",
       "      <td>0.0</td>\n",
       "      <td>0.0</td>\n",
       "      <td>0.0</td>\n",
       "      <td>0.0</td>\n",
       "      <td>0.0</td>\n",
       "      <td>0.0</td>\n",
       "    </tr>\n",
       "    <tr>\n",
       "      <th>Plekhg5</th>\n",
       "      <td>0.0</td>\n",
       "      <td>0.0</td>\n",
       "      <td>0.0</td>\n",
       "      <td>0.0</td>\n",
       "      <td>0.0</td>\n",
       "      <td>0.0</td>\n",
       "      <td>0.0</td>\n",
       "      <td>0.0</td>\n",
       "      <td>0.0</td>\n",
       "      <td>0.0</td>\n",
       "      <td>...</td>\n",
       "      <td>0.0</td>\n",
       "      <td>0.0</td>\n",
       "      <td>0.0</td>\n",
       "      <td>0.0</td>\n",
       "      <td>0.0</td>\n",
       "      <td>0.0</td>\n",
       "      <td>0.0</td>\n",
       "      <td>0.0</td>\n",
       "      <td>0.0</td>\n",
       "      <td>0.0</td>\n",
       "    </tr>\n",
       "    <tr>\n",
       "      <th>Nsa2</th>\n",
       "      <td>0.0</td>\n",
       "      <td>0.0</td>\n",
       "      <td>0.0</td>\n",
       "      <td>0.0</td>\n",
       "      <td>0.0</td>\n",
       "      <td>1.0</td>\n",
       "      <td>0.0</td>\n",
       "      <td>0.0</td>\n",
       "      <td>0.0</td>\n",
       "      <td>0.0</td>\n",
       "      <td>...</td>\n",
       "      <td>0.0</td>\n",
       "      <td>3.0</td>\n",
       "      <td>0.0</td>\n",
       "      <td>0.0</td>\n",
       "      <td>0.0</td>\n",
       "      <td>0.0</td>\n",
       "      <td>0.0</td>\n",
       "      <td>0.0</td>\n",
       "      <td>2.0</td>\n",
       "      <td>4.0</td>\n",
       "    </tr>\n",
       "  </tbody>\n",
       "</table>\n",
       "<p>5 rows × 76 columns</p>\n",
       "</div>"
      ],
      "text/plain": [
       "         ATCTTCGGATCA  TACAATTAAGGC  TTGCCTTACGCG  TCTGGATGCGCA  GGATACATGGTA  \\\n",
       "Plekhg2           0.0           0.0           0.0           0.0           0.0   \n",
       "Plekhg3           0.0           0.0           0.0           0.0           0.0   \n",
       "Plekhg4           0.0           0.0           0.0           0.0           0.0   \n",
       "Plekhg5           0.0           0.0           0.0           0.0           0.0   \n",
       "Nsa2              0.0           0.0           0.0           0.0           0.0   \n",
       "\n",
       "         CACTCTGCAAGG  GAAGTTGGCGGA  AGACTTCCCTCG  AAGTAAGCAAGC  TGGCTATACCAA  \\\n",
       "Plekhg2           1.0           0.0           0.0           0.0           0.0   \n",
       "Plekhg3           0.0           0.0           0.0           0.0           0.0   \n",
       "Plekhg4           0.0           0.0           0.0           0.0           0.0   \n",
       "Plekhg5           0.0           0.0           0.0           0.0           0.0   \n",
       "Nsa2              1.0           0.0           0.0           0.0           0.0   \n",
       "\n",
       "             ...       CGCCCAGTACCG  GAGACTGCCCCA  GAATGGCATGCT  CCTAGACGTAGT  \\\n",
       "Plekhg2      ...                0.0           0.0           0.0           0.0   \n",
       "Plekhg3      ...                0.0           2.0           0.0           0.0   \n",
       "Plekhg4      ...                0.0           0.0           0.0           0.0   \n",
       "Plekhg5      ...                0.0           0.0           0.0           0.0   \n",
       "Nsa2         ...                0.0           3.0           0.0           0.0   \n",
       "\n",
       "         GACACTTCATCG  CGTGATGACCCT  AACCTATGGGCC  CCTTGTACTTTT  TGAATGTTTGAC  \\\n",
       "Plekhg2           0.0           0.0           0.0           0.0           0.0   \n",
       "Plekhg3           0.0           0.0           0.0           0.0           0.0   \n",
       "Plekhg4           0.0           0.0           0.0           0.0           0.0   \n",
       "Plekhg5           0.0           0.0           0.0           0.0           0.0   \n",
       "Nsa2              0.0           0.0           0.0           0.0           2.0   \n",
       "\n",
       "         TCTCACAATGGG  \n",
       "Plekhg2           1.0  \n",
       "Plekhg3           0.0  \n",
       "Plekhg4           0.0  \n",
       "Plekhg5           0.0  \n",
       "Nsa2              4.0  \n",
       "\n",
       "[5 rows x 76 columns]"
      ]
     },
     "execution_count": 56,
     "metadata": {},
     "output_type": "execute_result"
    }
   ],
   "source": [
    "#WARNING this matrix contains both human and mouse genes, but you can filter as needed\n",
    "EXPR_MAT.head()"
   ]
  },
  {
   "cell_type": "code",
   "execution_count": null,
   "metadata": {
    "collapsed": true
   },
   "outputs": [],
   "source": [
    "EXPR_MAT.to_csv(outputpath+'/expr_mat_Yorimasafiltered.txt',sep='\\t')"
   ]
  }
 ],
 "metadata": {
  "kernelspec": {
   "display_name": "Python 2",
   "language": "python",
   "name": "python2"
  },
  "language_info": {
   "codemirror_mode": {
    "name": "ipython",
    "version": 2
   },
   "file_extension": ".py",
   "mimetype": "text/x-python",
   "name": "python",
   "nbconvert_exporter": "python",
   "pygments_lexer": "ipython2",
   "version": "2.7.11"
  }
 },
 "nbformat": 4,
 "nbformat_minor": 0
}
