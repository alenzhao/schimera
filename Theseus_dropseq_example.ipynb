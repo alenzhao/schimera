{
 "cells": [
  {
   "cell_type": "code",
   "execution_count": 1,
   "metadata": {
    "collapsed": true
   },
   "outputs": [],
   "source": [
    "%matplotlib inline"
   ]
  },
  {
   "cell_type": "code",
   "execution_count": 2,
   "metadata": {
    "collapsed": false
   },
   "outputs": [
    {
     "name": "stderr",
     "output_type": "stream",
     "text": [
      "/Users/atray/anaconda/lib/python2.7/site-packages/pandas/computation/__init__.py:19: UserWarning: The installed version of numexpr 2.4.4 is not supported in pandas and will be not be used\n",
      "\n",
      "  UserWarning)\n"
     ]
    }
   ],
   "source": [
    "import pandas as pd\n",
    "import numpy as np\n",
    "import matplotlib\n",
    "import matplotlib.pyplot as plt\n",
    "import sys\n",
    "import scipy.stats\n",
    "import statsmodels.api as sm"
   ]
  },
  {
   "cell_type": "code",
   "execution_count": 3,
   "metadata": {
    "collapsed": true
   },
   "outputs": [],
   "source": [
    "#simple function to calculate basepair composition of sequence\n",
    "def bp_calc(seq):\n",
    "    seqlen=len(seq)\n",
    "    bpcomp=np.divide(1.0*np.array([seq.count('A'),seq.count('C'),seq.count('G'),seq.count('T')]),seqlen)\n",
    "    return bpcomp"
   ]
  },
  {
   "cell_type": "code",
   "execution_count": 29,
   "metadata": {
    "collapsed": true
   },
   "outputs": [],
   "source": [
    "outputpath='OUTPUTPATH'\n",
    "#minimum TPT threshold\n",
    "TPT_threshold=0.02"
   ]
  },
  {
   "cell_type": "code",
   "execution_count": 10,
   "metadata": {
    "collapsed": false
   },
   "outputs": [],
   "source": [
    "#Read Dropseq outputs containing molecule information\n",
    "Th=pd.read_csv('PATH2HUMAN_molBC'+'/SpeciesMix_HundredSTAMP_bq10_star_HUMAN_auto_molBC.txt.gz',sep='\\t')\n",
    "Tm=pd.read_csv('PATH2HUMAN_molBC'+'SpeciesMix_HundredSTAMP_bq10_star_MOUSE_auto_molBC.txt.gz',sep='\\t')"
   ]
  },
  {
   "cell_type": "code",
   "execution_count": 11,
   "metadata": {
    "collapsed": true
   },
   "outputs": [],
   "source": [
    "Th['human']=[1.0]*len(Th)\n",
    "Th['mouse']=[0.0]*len(Th)\n",
    "Tm['human']=[0.0]*len(Tm)\n",
    "Tm['mouse']=[1.0]*len(Tm)"
   ]
  },
  {
   "cell_type": "code",
   "execution_count": 12,
   "metadata": {
    "collapsed": false
   },
   "outputs": [
    {
     "data": {
      "text/html": [
       "<div>\n",
       "<table border=\"1\" class=\"dataframe\">\n",
       "  <thead>\n",
       "    <tr style=\"text-align: right;\">\n",
       "      <th></th>\n",
       "      <th>Cell Barcode</th>\n",
       "      <th>Gene</th>\n",
       "      <th>Molecular_Barcode</th>\n",
       "      <th>Num_Obs</th>\n",
       "      <th>human</th>\n",
       "      <th>mouse</th>\n",
       "    </tr>\n",
       "  </thead>\n",
       "  <tbody>\n",
       "    <tr>\n",
       "      <th>0</th>\n",
       "      <td>CTAAGTAGCTTT</td>\n",
       "      <td>A1BG</td>\n",
       "      <td>CGGTCGTC</td>\n",
       "      <td>4</td>\n",
       "      <td>1.0</td>\n",
       "      <td>0.0</td>\n",
       "    </tr>\n",
       "    <tr>\n",
       "      <th>1</th>\n",
       "      <td>GAAGTTGGCGGA</td>\n",
       "      <td>A1BG</td>\n",
       "      <td>TCCTTTGA</td>\n",
       "      <td>3</td>\n",
       "      <td>1.0</td>\n",
       "      <td>0.0</td>\n",
       "    </tr>\n",
       "    <tr>\n",
       "      <th>2</th>\n",
       "      <td>GACACTTCATCG</td>\n",
       "      <td>A1BG</td>\n",
       "      <td>ATTGGCAT</td>\n",
       "      <td>2</td>\n",
       "      <td>1.0</td>\n",
       "      <td>0.0</td>\n",
       "    </tr>\n",
       "    <tr>\n",
       "      <th>3</th>\n",
       "      <td>GTTATCCACCTT</td>\n",
       "      <td>A1BG</td>\n",
       "      <td>CGGTCTGG</td>\n",
       "      <td>3</td>\n",
       "      <td>1.0</td>\n",
       "      <td>0.0</td>\n",
       "    </tr>\n",
       "    <tr>\n",
       "      <th>4</th>\n",
       "      <td>GTTATCCACCTT</td>\n",
       "      <td>A1BG</td>\n",
       "      <td>CCTGTGGG</td>\n",
       "      <td>4</td>\n",
       "      <td>1.0</td>\n",
       "      <td>0.0</td>\n",
       "    </tr>\n",
       "  </tbody>\n",
       "</table>\n",
       "</div>"
      ],
      "text/plain": [
       "   Cell Barcode  Gene Molecular_Barcode  Num_Obs  human  mouse\n",
       "0  CTAAGTAGCTTT  A1BG          CGGTCGTC        4    1.0    0.0\n",
       "1  GAAGTTGGCGGA  A1BG          TCCTTTGA        3    1.0    0.0\n",
       "2  GACACTTCATCG  A1BG          ATTGGCAT        2    1.0    0.0\n",
       "3  GTTATCCACCTT  A1BG          CGGTCTGG        3    1.0    0.0\n",
       "4  GTTATCCACCTT  A1BG          CCTGTGGG        4    1.0    0.0"
      ]
     },
     "execution_count": 12,
     "metadata": {},
     "output_type": "execute_result"
    }
   ],
   "source": [
    "Th.head()"
   ]
  },
  {
   "cell_type": "code",
   "execution_count": 13,
   "metadata": {
    "collapsed": true
   },
   "outputs": [],
   "source": [
    "T=pd.concat([Th,Tm])"
   ]
  },
  {
   "cell_type": "code",
   "execution_count": 14,
   "metadata": {
    "collapsed": true
   },
   "outputs": [],
   "source": [
    "T['bcumi']=[x+'-'+y for x,y in zip(T['Cell Barcode'],T['Molecular_Barcode'])]"
   ]
  },
  {
   "cell_type": "code",
   "execution_count": 15,
   "metadata": {
    "collapsed": true
   },
   "outputs": [],
   "source": [
    "BCUMI_group=T.groupby('bcumi').sum()\n",
    "BCUMI_group['gpt']=BCUMI_group['human']+BCUMI_group['mouse']"
   ]
  },
  {
   "cell_type": "code",
   "execution_count": 16,
   "metadata": {
    "collapsed": true
   },
   "outputs": [],
   "source": [
    "BCUMI_group=pd.DataFrame(BCUMI_group[['Num_Obs','gpt']])\n",
    "BCUMI_group.columns=['total_reads','gpt']\n",
    "T_tot=T.copy()\n",
    "T_tot.index=T_tot['bcumi']\n",
    "T_tot=T_tot.join(BCUMI_group)\n",
    "T_tot['TPT']=1.0*(np.divide(1.0*T_tot['Num_Obs'],T_tot['total_reads']))"
   ]
  },
  {
   "cell_type": "code",
   "execution_count": 17,
   "metadata": {
    "collapsed": false
   },
   "outputs": [
    {
     "data": {
      "text/plain": [
       "<matplotlib.text.Text at 0x13fc6a450>"
      ]
     },
     "execution_count": 17,
     "metadata": {},
     "output_type": "execute_result"
    },
    {
     "data": {
      "image/png": "[encoded data removed]",
      "text/plain": [
       "<matplotlib.figure.Figure at 0x10aaa7e50>"
      ]
     },
     "metadata": {},
     "output_type": "display_data"
    }
   ],
   "source": [
    "plt.hist(T_tot['TPT'],20)\n",
    "plt.xlabel('TPT')\n",
    "plt.ylabel('Frequency')"
   ]
  },
  {
   "cell_type": "markdown",
   "metadata": {},
   "source": [
    "The following code computes the expected number of genes expected per unique cell barcode UMI pair based on the basepair composition diversity of the UMI"
   ]
  },
  {
   "cell_type": "code",
   "execution_count": 18,
   "metadata": {
    "collapsed": true
   },
   "outputs": [],
   "source": [
    "df_umi=pd.DataFrame([list(x) for x in T_tot['Molecular_Barcode']])\n",
    "bp_umi=[bp_calc(''.join(np.array(df_umi[x]))) for x in range(np.shape(df_umi)[1])]"
   ]
  },
  {
   "cell_type": "code",
   "execution_count": 19,
   "metadata": {
    "collapsed": true
   },
   "outputs": [],
   "source": [
    "#use per base relative entropy to calculate the effective diversity of the umi library based on basepair composition bias\n",
    "def s_entropy(p):\n",
    "    y=[x*np.log2(x) for x in p]\n",
    "    return(np.sum(y))\n",
    "\n",
    "perbp_entropy=4.0*np.divide([s_entropy(x) for x in bp_umi],s_entropy([0.25,0.25,0.25,0.25]))"
   ]
  },
  {
   "cell_type": "code",
   "execution_count": 20,
   "metadata": {
    "collapsed": false
   },
   "outputs": [
    {
     "name": "stdout",
     "output_type": "stream",
     "text": [
      "total complexity would be 65536 actual complexity is 30439.0625303\n"
     ]
    }
   ],
   "source": [
    "total_complexity=np.power(4,8)\n",
    "effective_complexity=np.product(perbp_entropy)\n",
    "print('total complexity would be '+str(total_complexity)+' actual complexity is '+str(effective_complexity))"
   ]
  },
  {
   "cell_type": "code",
   "execution_count": 21,
   "metadata": {
    "collapsed": false
   },
   "outputs": [],
   "source": [
    "T_tot['unique']=[1.0]*len(T_tot)\n",
    "Tbc=T_tot.groupby('Cell Barcode').sum()\n",
    "df_pmf=pd.DataFrame([scipy.stats.poisson.pmf(np.linspace(1,100,100),np.divide(1.0*x,effective_complexity)) for x in Tbc['unique']])\n",
    "df_pmf=df_pmf.divide(df_pmf.sum(axis=1),axis=0)\n",
    "df_cdfs=df_pmf.cumsum(axis=1)\n",
    "mean_cdf=df_cdfs.mean()\n",
    "std_cdf=df_cdfs.std()"
   ]
  },
  {
   "cell_type": "code",
   "execution_count": 22,
   "metadata": {
    "collapsed": false
   },
   "outputs": [
    {
     "data": {
      "text/plain": [
       "<matplotlib.text.Text at 0x13fc73dd0>"
      ]
     },
     "execution_count": 22,
     "metadata": {},
     "output_type": "execute_result"
    },
    {
     "data": {
      "image/png": "[encoded data removed]",
      "text/plain": [
       "<matplotlib.figure.Figure at 0x10c94b610>"
      ]
     },
     "metadata": {},
     "output_type": "display_data"
    }
   ],
   "source": [
    "ysort=np.sort(np.log2(T_tot['gpt']))\n",
    "y=np.cumsum(ysort)\n",
    "y=np.divide(1.0*y,np.max(y))\n",
    "ecdf = sm.distributions.ECDF(ysort)\n",
    "x = np.log2(np.array(range(np.power(2,9)))+1)#np.linspace(min(ysort), max(ysort),10000)\n",
    "y = ecdf(x)\n",
    "plt.plot(x, y,label='Observed')\n",
    "plt.plot(np.log2(np.linspace(1,100,100)),mean_cdf,label='Expected based on basepair compositions')\n",
    "plt.fill_between(np.log2(np.linspace(1,100,100)),mean_cdf-std_cdf,mean_cdf+std_cdf,color='green',alpha=0.2)\n",
    "plt.ylim([0,1])\n",
    "plt.legend(loc=4)\n",
    "plt.xlabel('Log2(Genes Per Tag)')\n",
    "plt.ylabel('Cumulative Probability')"
   ]
  },
  {
   "cell_type": "markdown",
   "metadata": {
    "collapsed": false
   },
   "source": [
    "Now we filter on TPT and return a new expression matrix"
   ]
  },
  {
   "cell_type": "code",
   "execution_count": 30,
   "metadata": {
    "collapsed": false
   },
   "outputs": [
    {
     "name": "stdout",
     "output_type": "stream",
     "text": [
      "Filtered 16.76% of molecules\n"
     ]
    }
   ],
   "source": [
    "filter_logical=T_tot['TPT']>TPT_threshold\n",
    "T_F=T_tot[filter_logical][['Cell Barcode','Gene','unique']]\n",
    "T_F.index=[(x,y) for x,y in zip(T_F['Cell Barcode'],T_F['Gene'])]\n",
    "T_F=T_F.groupby(T_F.index).sum()\n",
    "print('Filtered '+str(np.round(100*(1.0-np.mean(filter_logical)),2))+'% of molecules')"
   ]
  },
  {
   "cell_type": "code",
   "execution_count": 31,
   "metadata": {
    "collapsed": false
   },
   "outputs": [
    {
     "data": {
      "text/html": [
       "<div>\n",
       "<table border=\"1\" class=\"dataframe\">\n",
       "  <thead>\n",
       "    <tr style=\"text-align: right;\">\n",
       "      <th></th>\n",
       "      <th>unique</th>\n",
       "    </tr>\n",
       "  </thead>\n",
       "  <tbody>\n",
       "    <tr>\n",
       "      <th>(AACCTATGGGCC, 6330408A02Rik)</th>\n",
       "      <td>1.0</td>\n",
       "    </tr>\n",
       "    <tr>\n",
       "      <th>(AACCTATGGGCC, A730017L22Rik)</th>\n",
       "      <td>1.0</td>\n",
       "    </tr>\n",
       "    <tr>\n",
       "      <th>(AACCTATGGGCC, AAAS)</th>\n",
       "      <td>2.0</td>\n",
       "    </tr>\n",
       "    <tr>\n",
       "      <th>(AACCTATGGGCC, AADAT)</th>\n",
       "      <td>5.0</td>\n",
       "    </tr>\n",
       "    <tr>\n",
       "      <th>(AACCTATGGGCC, AAED1)</th>\n",
       "      <td>1.0</td>\n",
       "    </tr>\n",
       "  </tbody>\n",
       "</table>\n",
       "</div>"
      ],
      "text/plain": [
       "                               unique\n",
       "(AACCTATGGGCC, 6330408A02Rik)     1.0\n",
       "(AACCTATGGGCC, A730017L22Rik)     1.0\n",
       "(AACCTATGGGCC, AAAS)              2.0\n",
       "(AACCTATGGGCC, AADAT)             5.0\n",
       "(AACCTATGGGCC, AAED1)             1.0"
      ]
     },
     "execution_count": 31,
     "metadata": {},
     "output_type": "execute_result"
    }
   ],
   "source": [
    "T_F.head()"
   ]
  },
  {
   "cell_type": "code",
   "execution_count": 32,
   "metadata": {
    "collapsed": true
   },
   "outputs": [],
   "source": [
    "def str2index(strlist):\n",
    "    reduced=pd.DataFrame(list(set(np.sort(strlist))))\n",
    "    reduced=reduced.reset_index()\n",
    "    reduced.index=reduced[0]\n",
    "    dftmp=pd.DataFrame(strlist,index=strlist)\n",
    "    dftmp=dftmp.merge(reduced,how='left')['index']\n",
    "    return np.array(dftmp),list(reduced[0])"
   ]
  },
  {
   "cell_type": "code",
   "execution_count": 33,
   "metadata": {
    "collapsed": false
   },
   "outputs": [],
   "source": [
    "tfrow=[x[1] for x in T_F.index]\n",
    "tfrow,gnames=str2index(tfrow)\n",
    "tfcol=[x[0] for x in T_F.index]\n",
    "tfcol,cnames=str2index(tfcol)\n",
    "tfdata=np.array(T_F['unique'])\n",
    "tmpcol=pd.DataFrame(np.unique(tfcol))\n",
    "tmpcol['unind']=range(len(tmpcol))"
   ]
  },
  {
   "cell_type": "code",
   "execution_count": 34,
   "metadata": {
    "collapsed": false
   },
   "outputs": [],
   "source": [
    "dftfcol=pd.DataFrame(tfcol)\n",
    "dftfcol=dftfcol.merge(tmpcol,on=0)\n",
    "tfcol=np.array(dftfcol['unind'])\n",
    "EXPR_MAT=scipy.sparse.csr_matrix((tfdata,(tfrow,tfcol)),shape=(np.max(tfrow)+1,np.max(tfcol)+1)).toarray()\n",
    "EXPR_MAT=pd.DataFrame(EXPR_MAT)\n",
    "EXPR_MAT.index=gnames\n",
    "EXPR_MAT.columns=cnames"
   ]
  },
  {
   "cell_type": "code",
   "execution_count": 37,
   "metadata": {
    "collapsed": false
   },
   "outputs": [
    {
     "data": {
      "text/html": [
       "<div>\n",
       "<table border=\"1\" class=\"dataframe\">\n",
       "  <thead>\n",
       "    <tr style=\"text-align: right;\">\n",
       "      <th></th>\n",
       "      <th>ATCTTCGGATCA</th>\n",
       "      <th>TACAATTAAGGC</th>\n",
       "      <th>TCGACCTGTACT</th>\n",
       "      <th>TCTGGATGCGCA</th>\n",
       "      <th>GGATACATGGTA</th>\n",
       "      <th>CACTCTGCAAGG</th>\n",
       "      <th>GAAGTTGGCGGA</th>\n",
       "      <th>AGACTTCCCTCG</th>\n",
       "      <th>AAGTAAGCAAGC</th>\n",
       "      <th>TGGCTATACCAA</th>\n",
       "      <th>...</th>\n",
       "      <th>GAGACTGCCCCA</th>\n",
       "      <th>GAATGGCATGCT</th>\n",
       "      <th>CCTAGACGTAGT</th>\n",
       "      <th>TTGCCTTACGCG</th>\n",
       "      <th>GACACTTCATCG</th>\n",
       "      <th>CGTGATGACCCT</th>\n",
       "      <th>AACCTATGGGCC</th>\n",
       "      <th>CCTTGTACTTTT</th>\n",
       "      <th>TGAATGTTTGAC</th>\n",
       "      <th>TCTCACAATGGG</th>\n",
       "    </tr>\n",
       "  </thead>\n",
       "  <tbody>\n",
       "    <tr>\n",
       "      <th>Plekhg2</th>\n",
       "      <td>0.0</td>\n",
       "      <td>0.0</td>\n",
       "      <td>0.0</td>\n",
       "      <td>0.0</td>\n",
       "      <td>0.0</td>\n",
       "      <td>1.0</td>\n",
       "      <td>0.0</td>\n",
       "      <td>0.0</td>\n",
       "      <td>0.0</td>\n",
       "      <td>0.0</td>\n",
       "      <td>...</td>\n",
       "      <td>0.0</td>\n",
       "      <td>0.0</td>\n",
       "      <td>0.0</td>\n",
       "      <td>0.0</td>\n",
       "      <td>0.0</td>\n",
       "      <td>0.0</td>\n",
       "      <td>0.0</td>\n",
       "      <td>0.0</td>\n",
       "      <td>0.0</td>\n",
       "      <td>1.0</td>\n",
       "    </tr>\n",
       "    <tr>\n",
       "      <th>Plekhg3</th>\n",
       "      <td>0.0</td>\n",
       "      <td>0.0</td>\n",
       "      <td>0.0</td>\n",
       "      <td>0.0</td>\n",
       "      <td>0.0</td>\n",
       "      <td>0.0</td>\n",
       "      <td>0.0</td>\n",
       "      <td>0.0</td>\n",
       "      <td>0.0</td>\n",
       "      <td>0.0</td>\n",
       "      <td>...</td>\n",
       "      <td>2.0</td>\n",
       "      <td>0.0</td>\n",
       "      <td>0.0</td>\n",
       "      <td>0.0</td>\n",
       "      <td>0.0</td>\n",
       "      <td>0.0</td>\n",
       "      <td>0.0</td>\n",
       "      <td>0.0</td>\n",
       "      <td>0.0</td>\n",
       "      <td>0.0</td>\n",
       "    </tr>\n",
       "    <tr>\n",
       "      <th>Plekhg4</th>\n",
       "      <td>0.0</td>\n",
       "      <td>0.0</td>\n",
       "      <td>0.0</td>\n",
       "      <td>0.0</td>\n",
       "      <td>0.0</td>\n",
       "      <td>0.0</td>\n",
       "      <td>0.0</td>\n",
       "      <td>0.0</td>\n",
       "      <td>0.0</td>\n",
       "      <td>0.0</td>\n",
       "      <td>...</td>\n",
       "      <td>0.0</td>\n",
       "      <td>0.0</td>\n",
       "      <td>0.0</td>\n",
       "      <td>0.0</td>\n",
       "      <td>0.0</td>\n",
       "      <td>0.0</td>\n",
       "      <td>0.0</td>\n",
       "      <td>0.0</td>\n",
       "      <td>0.0</td>\n",
       "      <td>0.0</td>\n",
       "    </tr>\n",
       "    <tr>\n",
       "      <th>Plekhg5</th>\n",
       "      <td>0.0</td>\n",
       "      <td>0.0</td>\n",
       "      <td>0.0</td>\n",
       "      <td>0.0</td>\n",
       "      <td>0.0</td>\n",
       "      <td>0.0</td>\n",
       "      <td>0.0</td>\n",
       "      <td>0.0</td>\n",
       "      <td>0.0</td>\n",
       "      <td>0.0</td>\n",
       "      <td>...</td>\n",
       "      <td>0.0</td>\n",
       "      <td>0.0</td>\n",
       "      <td>0.0</td>\n",
       "      <td>0.0</td>\n",
       "      <td>0.0</td>\n",
       "      <td>0.0</td>\n",
       "      <td>0.0</td>\n",
       "      <td>0.0</td>\n",
       "      <td>0.0</td>\n",
       "      <td>0.0</td>\n",
       "    </tr>\n",
       "    <tr>\n",
       "      <th>Nsa2</th>\n",
       "      <td>0.0</td>\n",
       "      <td>0.0</td>\n",
       "      <td>0.0</td>\n",
       "      <td>0.0</td>\n",
       "      <td>0.0</td>\n",
       "      <td>1.0</td>\n",
       "      <td>0.0</td>\n",
       "      <td>0.0</td>\n",
       "      <td>0.0</td>\n",
       "      <td>0.0</td>\n",
       "      <td>...</td>\n",
       "      <td>1.0</td>\n",
       "      <td>0.0</td>\n",
       "      <td>0.0</td>\n",
       "      <td>0.0</td>\n",
       "      <td>0.0</td>\n",
       "      <td>0.0</td>\n",
       "      <td>0.0</td>\n",
       "      <td>0.0</td>\n",
       "      <td>2.0</td>\n",
       "      <td>4.0</td>\n",
       "    </tr>\n",
       "  </tbody>\n",
       "</table>\n",
       "<p>5 rows × 81 columns</p>\n",
       "</div>"
      ],
      "text/plain": [
       "         ATCTTCGGATCA  TACAATTAAGGC  TCGACCTGTACT  TCTGGATGCGCA  GGATACATGGTA  \\\n",
       "Plekhg2           0.0           0.0           0.0           0.0           0.0   \n",
       "Plekhg3           0.0           0.0           0.0           0.0           0.0   \n",
       "Plekhg4           0.0           0.0           0.0           0.0           0.0   \n",
       "Plekhg5           0.0           0.0           0.0           0.0           0.0   \n",
       "Nsa2              0.0           0.0           0.0           0.0           0.0   \n",
       "\n",
       "         CACTCTGCAAGG  GAAGTTGGCGGA  AGACTTCCCTCG  AAGTAAGCAAGC  TGGCTATACCAA  \\\n",
       "Plekhg2           1.0           0.0           0.0           0.0           0.0   \n",
       "Plekhg3           0.0           0.0           0.0           0.0           0.0   \n",
       "Plekhg4           0.0           0.0           0.0           0.0           0.0   \n",
       "Plekhg5           0.0           0.0           0.0           0.0           0.0   \n",
       "Nsa2              1.0           0.0           0.0           0.0           0.0   \n",
       "\n",
       "             ...       GAGACTGCCCCA  GAATGGCATGCT  CCTAGACGTAGT  TTGCCTTACGCG  \\\n",
       "Plekhg2      ...                0.0           0.0           0.0           0.0   \n",
       "Plekhg3      ...                2.0           0.0           0.0           0.0   \n",
       "Plekhg4      ...                0.0           0.0           0.0           0.0   \n",
       "Plekhg5      ...                0.0           0.0           0.0           0.0   \n",
       "Nsa2         ...                1.0           0.0           0.0           0.0   \n",
       "\n",
       "         GACACTTCATCG  CGTGATGACCCT  AACCTATGGGCC  CCTTGTACTTTT  TGAATGTTTGAC  \\\n",
       "Plekhg2           0.0           0.0           0.0           0.0           0.0   \n",
       "Plekhg3           0.0           0.0           0.0           0.0           0.0   \n",
       "Plekhg4           0.0           0.0           0.0           0.0           0.0   \n",
       "Plekhg5           0.0           0.0           0.0           0.0           0.0   \n",
       "Nsa2              0.0           0.0           0.0           0.0           2.0   \n",
       "\n",
       "         TCTCACAATGGG  \n",
       "Plekhg2           1.0  \n",
       "Plekhg3           0.0  \n",
       "Plekhg4           0.0  \n",
       "Plekhg5           0.0  \n",
       "Nsa2              4.0  \n",
       "\n",
       "[5 rows x 81 columns]"
      ]
     },
     "execution_count": 37,
     "metadata": {},
     "output_type": "execute_result"
    }
   ],
   "source": [
    "#WARNING this matrix contains both human and mouse genes, but you can filter as needed\n",
    "EXPR_MAT.head()"
   ]
  },
  {
   "cell_type": "code",
   "execution_count": null,
   "metadata": {
    "collapsed": true
   },
   "outputs": [],
   "source": [
    "EXPR_MAT.to_csv(outputpath+'/expr_mat_TPTfiltered.txt',sep='\\t')"
   ]
  }
 ],
 "metadata": {
  "kernelspec": {
   "display_name": "Python 2",
   "language": "python",
   "name": "python2"
  },
  "language_info": {
   "codemirror_mode": {
    "name": "ipython",
    "version": 2
   },
   "file_extension": ".py",
   "mimetype": "text/x-python",
   "name": "python",
   "nbconvert_exporter": "python",
   "pygments_lexer": "ipython2",
   "version": "2.7.11"
  }
 },
 "nbformat": 4,
 "nbformat_minor": 0
}
